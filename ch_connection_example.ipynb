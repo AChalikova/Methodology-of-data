{
 "cells": [
  {
   "cell_type": "markdown",
   "metadata": {},
   "source": [
    "## Пример работы с CH"
   ]
  },
  {
   "cell_type": "code",
   "execution_count": 11,
   "metadata": {},
   "outputs": [],
   "source": [
    "import pandas as pd"
   ]
  },
  {
   "cell_type": "code",
   "execution_count": 9,
   "metadata": {},
   "outputs": [],
   "source": [
    "# блок, где генерируются данные для вставки в таблицу test_table\n",
    "ids_arr = []\n",
    "names_arr = []\n",
    "amount_arr = []\n",
    "for i in range(10000):\n",
    "    ids_arr.append(i + 1)\n",
    "    names_arr.append('Pskov')\n",
    "    amount_arr.append((i + 1) * 34)\n",
    "for i in range(10000, 20000):\n",
    "    ids_arr.append(i + 1)\n",
    "    names_arr.append('Murmansk')\n",
    "    amount_arr.append((i + 1) * 34)"
   ]
  },
  {
   "cell_type": "code",
   "execution_count": 13,
   "metadata": {},
   "outputs": [],
   "source": [
    "df_dict = {'id': ids_arr, 'name': names_arr, 'amount': amount_arr}\n",
    "df = pd.DataFrame.from_dict(df_dict).set_index('id')\n",
    "df.to_csv('example_data.csv', encoding='utf-8')"
   ]
  },
  {
   "cell_type": "code",
   "execution_count": 5,
   "metadata": {},
   "outputs": [],
   "source": [
    "from clickhouse_driver.client import Client"
   ]
  },
  {
   "cell_type": "code",
   "execution_count": 7,
   "metadata": {},
   "outputs": [
    {
     "name": "stdout",
     "output_type": "stream",
     "text": [
      "[('_temporary_and_external_tables',), ('default',), ('system',), ('test_db',)]\n"
     ]
    }
   ],
   "source": [
    "# Подключение к серверу\n",
    "client = Client('3.23.248.232', user='default', password='qwerty') # наш первый сервер\n",
    "#client = Client('3.23.221.144', user='default', password='qwerty') # наш второй сервер\n",
    "print(client.execute('SHOW DATABASES'))"
   ]
  },
  {
   "cell_type": "markdown",
   "metadata": {},
   "source": [
    "### Структура тестовой базы test_db\n",
    "\n",
    "В базе test_db на каждом сервере есть локальная таблица `test_table`. Обращение к ней: `test_db.test_table`.\n",
    "\n",
    "Эти локальные таблицы имеют общую распределенную - `distr_test_table`. Обращение к ней: `test_db.distr_test_table`.\n",
    "\n",
    "Поля таблицы `test_table`:\n",
    "* id - Int64\n",
    "* name - String, not null\n",
    "* amount - Int64\n",
    "\n",
    "Данные грузим в распределенную, потом они сами распределяются по локальным."
   ]
  },
  {
   "cell_type": "code",
   "execution_count": 19,
   "metadata": {},
   "outputs": [
    {
     "data": {
      "text/plain": [
       "20000"
      ]
     },
     "execution_count": 19,
     "metadata": {},
     "output_type": "execute_result"
    }
   ],
   "source": [
    "# Пример вставки данных в тестовую таблицу\n",
    "client.execute('INSERT INTO test_db.distr_test_table VALUES', \n",
    "               (el for el in zip(ids_arr, names_arr, amount_arr)), \n",
    "               types_check=True)"
   ]
  },
  {
   "cell_type": "code",
   "execution_count": 21,
   "metadata": {},
   "outputs": [
    {
     "data": {
      "text/plain": [
       "[(24834,)]"
      ]
     },
     "execution_count": 21,
     "metadata": {},
     "output_type": "execute_result"
    }
   ],
   "source": [
    "# Запрос к локальной таблице\n",
    "client.execute('select count(*) from test_db.test_table')"
   ]
  },
  {
   "cell_type": "code",
   "execution_count": 22,
   "metadata": {},
   "outputs": [
    {
     "data": {
      "text/plain": [
       "[(50000,)]"
      ]
     },
     "execution_count": 22,
     "metadata": {},
     "output_type": "execute_result"
    }
   ],
   "source": [
    "# Запрос к распределенной таблице\n",
    "client.execute('select count(*) from test_db.distr_test_table')"
   ]
  },
  {
   "cell_type": "code",
   "execution_count": 23,
   "metadata": {},
   "outputs": [],
   "source": [
    "# Разрываем соединение с сервером\n",
    "client.disconnect()"
   ]
  }
 ],
 "metadata": {
  "kernelspec": {
   "display_name": "Python 3",
   "language": "python",
   "name": "python3"
  },
  "language_info": {
   "codemirror_mode": {
    "name": "ipython",
    "version": 3
   },
   "file_extension": ".py",
   "mimetype": "text/x-python",
   "name": "python",
   "nbconvert_exporter": "python",
   "pygments_lexer": "ipython3",
   "version": "3.7.4"
  }
 },
 "nbformat": 4,
 "nbformat_minor": 2
}
