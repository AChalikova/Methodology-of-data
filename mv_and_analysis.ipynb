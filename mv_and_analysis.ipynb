{
 "cells": [
  {
   "cell_type": "markdown",
   "metadata": {},
   "source": [
    "# Анализ данных"
   ]
  },
  {
   "cell_type": "code",
   "execution_count": 2,
   "metadata": {},
   "outputs": [],
   "source": [
    "import json \n",
    "import csv #Запись данных в файл\n",
    "import pandas as pd\n",
    "import numpy as np\n",
    "import re\n",
    "import os #работа с файлами, папками\n",
    "import folium #для построения карты"
   ]
  },
  {
   "cell_type": "markdown",
   "metadata": {},
   "source": [
    "## Подключение к серверам"
   ]
  },
  {
   "cell_type": "code",
   "execution_count": 3,
   "metadata": {},
   "outputs": [],
   "source": [
    "from clickhouse_driver import Client"
   ]
  },
  {
   "cell_type": "code",
   "execution_count": 4,
   "metadata": {},
   "outputs": [],
   "source": [
    "# Подключение к серверу\n",
    "# У нас на Амазоне развернут кластер из двух серверов\n",
    "client = Client('3.23.248.232', user='default', password='qwerty') # наш первый сервер\n",
    "#client = Client('3.23.221.144', user='default', password='qwerty') # наш второй сервер"
   ]
  },
  {
   "cell_type": "code",
   "execution_count": 5,
   "metadata": {},
   "outputs": [
    {
     "data": {
      "text/plain": [
       "[('.inner.complexes_infr_dist',),\n",
       " ('.inner.complexes_infr_summary',),\n",
       " ('.inner.complexes_prices',),\n",
       " ('.inner.nearest_data',),\n",
       " ('clusters_info',),\n",
       " ('complexes_info',),\n",
       " ('complexes_infr_dist',),\n",
       " ('complexes_infr_summary',),\n",
       " ('complexes_prices',),\n",
       " ('distr_clusters_info',),\n",
       " ('distr_complexes_info',),\n",
       " ('distr_complexes_infr_dist',),\n",
       " ('distr_complexes_infr_summary',),\n",
       " ('distr_complexes_prices',),\n",
       " ('distr_infr',),\n",
       " ('distr_nearest_data',),\n",
       " ('distr_offers',),\n",
       " ('infr',),\n",
       " ('nearest_data',),\n",
       " ('offers',)]"
      ]
     },
     "execution_count": 5,
     "metadata": {},
     "output_type": "execute_result"
    }
   ],
   "source": [
    "client.execute('SHOW tables from realty_db')"
   ]
  },
  {
   "cell_type": "markdown",
   "metadata": {},
   "source": [
    "## Отбор ЖК в радиусе 35 км от центра\n",
    "\n",
    "Для дальнейшего анализа мы отбираем ЖК, которые находятся в радиусе 35 км от станции метро Невский проспект. Она имеет координаты `longitude = 30.326892`, `latitude = 59.935368`.\n",
    "\n",
    "Для удобства дальнейшего использования и возможности автоматического обновления при добавлении новых данных о жилых комплексах, создается materialized view `nearest_data`, который хранит результаты отбора, а расстояние от жк до центра считается с помощью функции `greatCircleDistance`."
   ]
  },
  {
   "cell_type": "code",
   "execution_count": 10,
   "metadata": {},
   "outputs": [
    {
     "data": {
      "text/plain": [
       "[]"
      ]
     },
     "execution_count": 10,
     "metadata": {},
     "output_type": "execute_result"
    }
   ],
   "source": [
    "# Создание materialized view realty_db.nearest_data\n",
    "# Запустить необходимо на всех серверах в кластере (у нас их 2)\n",
    "client.execute('''\n",
    "create materialized view realty_db.nearest_data\n",
    "ENGINE = AggregatingMergeTree() \n",
    "ORDER BY complex_id \n",
    "POPULATE AS SELECT \n",
    "complex_id, longitude, latitude,  greatCircleDistance(30.326892, 59.935368, longitude, latitude) as distance \n",
    "FROM realty_db.complexes_info WHERE distance < 35000\n",
    "''')"
   ]
  },
  {
   "cell_type": "code",
   "execution_count": 14,
   "metadata": {},
   "outputs": [
    {
     "data": {
      "text/plain": [
       "[]"
      ]
     },
     "execution_count": 14,
     "metadata": {},
     "output_type": "execute_result"
    }
   ],
   "source": [
    "# Делаем MV realty_db.nearest_data распределенным\n",
    "client.execute('''create table realty_db.distr_nearest_data as realty_db.nearest_data\n",
    "ENGINE=Distributed(bd_real_estate_cluster, realty_db, nearest_data)\n",
    "''')"
   ]
  },
  {
   "cell_type": "markdown",
   "metadata": {},
   "source": [
    "## Расчет средней стоимости квадратного метра за однокомнатную квартиру в жилых комплексах\n",
    "\n",
    "Для ЖК, отобранных на предыдущем этапе анализа, мы находим среднюю стоимость за метр квадратный среди однокомнатных квартир. Эта величина будет использоваться в дальнейшем для нахождения ценовых сегментов жилых комплексов.\n",
    "\n",
    "Для удобства дальнейшего использования и возможности автоматического обновления при добавлении новых данных, создается materialized view `complexes_prices`, который хранит результаты отбора."
   ]
  },
  {
   "cell_type": "code",
   "execution_count": 18,
   "metadata": {},
   "outputs": [
    {
     "data": {
      "text/plain": [
       "[]"
      ]
     },
     "execution_count": 18,
     "metadata": {},
     "output_type": "execute_result"
    }
   ],
   "source": [
    "# Создание materialized view realty_db.complexes_prices\n",
    "# Запустить необходимо на всех серверах в кластере (у нас их 2)\n",
    "client.execute('''create materialized view realty_db.complexes_prices\n",
    "engine=AggregatingMergeTree() \n",
    "order by complex_id \n",
    "populate as \n",
    "select * from \n",
    "(select nc.complex_id as complex_id, nc.longitude as longitude, \n",
    "nc.latitude as latitude, AVG(of.price_for_meter) as avg_price_for_meter \n",
    "from realty_db.nearest_data as nc ALL LEFT JOIN realty_db.offers as of USING complex_id \n",
    "GROUP BY complex_id, longitude, latitude) \n",
    "WHERE avg_price_for_meter <> 0;\n",
    "''')"
   ]
  },
  {
   "cell_type": "code",
   "execution_count": 22,
   "metadata": {},
   "outputs": [
    {
     "data": {
      "text/plain": [
       "[]"
      ]
     },
     "execution_count": 22,
     "metadata": {},
     "output_type": "execute_result"
    }
   ],
   "source": [
    "# Делаем MV realty_db.complexes_prices распределенным\n",
    "client.execute('''create table realty_db.distr_complexes_prices as realty_db.complexes_prices \n",
    "ENGINE=Distributed(bd_real_estate_cluster, realty_db, complexes_prices)\n",
    "''')"
   ]
  },
  {
   "cell_type": "markdown",
   "metadata": {},
   "source": [
    "## Подсчет расстояний между жилыми комплексами и объектами инфраструктуры\n",
    "\n",
    "Для ЖК, отобранных на предыдущем этапе анализа, мы находим расстояния до всех объектов инфраструктуры с помощью функции `greatCircleDistance`. Полученная информация будет использована в дальнейшем для получения информации о количестве объектов инфраструктуры разных категорий в пешей доступности от ЖК.\n",
    "\n",
    "Для удобства дальнейшего использования и возможности автоматического обновления при добавлении новых данных, создается materialized view `complexes_infr_dist`, который хранит результаты отбора."
   ]
  },
  {
   "cell_type": "code",
   "execution_count": 26,
   "metadata": {},
   "outputs": [
    {
     "data": {
      "text/plain": [
       "[]"
      ]
     },
     "execution_count": 26,
     "metadata": {},
     "output_type": "execute_result"
    }
   ],
   "source": [
    "# Создание materialized view realty_db.complexes_infr_dist\n",
    "# Запустить необходимо на всех серверах в кластере (у нас их 2)\n",
    "client.execute('''CREATE MATERIALIZED VIEW realty_db.complexes_infr_dist \n",
    "ENGINE = MergeTree() \n",
    "PARTITION BY object_category \n",
    "ORDER BY complex_id \n",
    "POPULATE AS \n",
    "SELECT compl.complex_id as complex_id, infr.com_id as object_id, infr.our_category as object_category, \n",
    "greatCircleDistance(compl.longitude, compl.latitude, infr.longitude, infr.latitude) as distance \n",
    "FROM realty_db.complexes_prices as compl, realty_db.infr as infr;\n",
    "''')"
   ]
  },
  {
   "cell_type": "code",
   "execution_count": 30,
   "metadata": {},
   "outputs": [
    {
     "data": {
      "text/plain": [
       "[]"
      ]
     },
     "execution_count": 30,
     "metadata": {},
     "output_type": "execute_result"
    }
   ],
   "source": [
    "# Делаем MV realty_db.complexes_infr_dist распределенным\n",
    "client.execute('''CREATE TABLE realty_db.distr_complexes_infr_dist as realty_db.complexes_infr_dist \n",
    "ENGINE=Distributed(bd_real_estate_cluster, realty_db, complexes_infr_dist)\n",
    "''')"
   ]
  },
  {
   "cell_type": "markdown",
   "metadata": {},
   "source": [
    "## Подсчет суммарного количества объектов инфраструктуры в радиусе 1500 м от жилого комплекса\n",
    "\n",
    "В качестве показателя развития инфраструктуры в определенном географическом районе города будет выступать количество объектов инфраструктуры разного типа, которые находятся в пешей доступности от ЖК.\n",
    "\n",
    "Для их подсчета создается materialized view `complexes_infr_summary`, который хранит результаты вычисления количества инфраструктурных объектов в радиусе 1,5 км для каждой категории объектов (например, школы или рестораны)."
   ]
  },
  {
   "cell_type": "code",
   "execution_count": 34,
   "metadata": {},
   "outputs": [
    {
     "data": {
      "text/plain": [
       "[]"
      ]
     },
     "execution_count": 34,
     "metadata": {},
     "output_type": "execute_result"
    }
   ],
   "source": [
    "# Создание materialized view realty_db.complexes_infr_summary\n",
    "# Запустить необходимо на всех серверах в кластере (у нас их 2)\n",
    "client.execute('''CREATE MATERIALIZED VIEW realty_db.complexes_infr_summary \n",
    "ENGINE = AggregatingMergeTree() \n",
    "PARTITION BY object_category \n",
    "ORDER BY complex_id POPULATE AS \n",
    "SELECT complex_id, object_category, count(object_id) as total_object_num \n",
    "FROM realty_db.complexes_infr_dist \n",
    "WHERE distance < 1500 \n",
    "GROUP BY complex_id, object_category \n",
    "ORDER BY complex_id;\n",
    "''')"
   ]
  },
  {
   "cell_type": "code",
   "execution_count": 38,
   "metadata": {},
   "outputs": [
    {
     "data": {
      "text/plain": [
       "[]"
      ]
     },
     "execution_count": 38,
     "metadata": {},
     "output_type": "execute_result"
    }
   ],
   "source": [
    "# Делаем MV realty_db.complexes_infr_summary распределенным\n",
    "client.execute('''CREATE TABLE realty_db.distr_complexes_infr_summary as realty_db.complexes_infr_summary \n",
    "ENGINE=Distributed(bd_real_estate_cluster, realty_db, complexes_infr_summary)\n",
    "''')"
   ]
  },
  {
   "cell_type": "markdown",
   "metadata": {},
   "source": [
    "## Объединение жилых комплексов в географические кластеры\n",
    "\n",
    "Уровень цен и развития инфраструктуры сильно меняются в зависимости от района, где находится жилой комплекс. Поэтому для дальнейшего анализа мы объединяем отдельные ЖК в кластеры и проводим анализ уровня развития инфраструктуры и стоимости жилья для полученных кластеров.\n",
    "\n",
    "Для кластеризации используется информация из materialized view `distr_complexes_prices`, а сама кластеризация производится по методу k-means, с использованием реализации этого метода из библиотеки `scikit-learn`."
   ]
  },
  {
   "cell_type": "code",
   "execution_count": 39,
   "metadata": {},
   "outputs": [],
   "source": [
    "from sklearn.cluster import KMeans\n",
    "from sklearn.preprocessing import scale"
   ]
  },
  {
   "cell_type": "code",
   "execution_count": 40,
   "metadata": {},
   "outputs": [
    {
     "data": {
      "text/html": [
       "<div>\n",
       "<style scoped>\n",
       "    .dataframe tbody tr th:only-of-type {\n",
       "        vertical-align: middle;\n",
       "    }\n",
       "\n",
       "    .dataframe tbody tr th {\n",
       "        vertical-align: top;\n",
       "    }\n",
       "\n",
       "    .dataframe thead th {\n",
       "        text-align: right;\n",
       "    }\n",
       "</style>\n",
       "<table border=\"1\" class=\"dataframe\">\n",
       "  <thead>\n",
       "    <tr style=\"text-align: right;\">\n",
       "      <th></th>\n",
       "      <th>longitude</th>\n",
       "      <th>latitude</th>\n",
       "    </tr>\n",
       "    <tr>\n",
       "      <th>complex_id</th>\n",
       "      <th></th>\n",
       "      <th></th>\n",
       "    </tr>\n",
       "  </thead>\n",
       "  <tbody>\n",
       "    <tr>\n",
       "      <td>1743</td>\n",
       "      <td>30.335373</td>\n",
       "      <td>60.074814</td>\n",
       "    </tr>\n",
       "    <tr>\n",
       "      <td>5630</td>\n",
       "      <td>30.509611</td>\n",
       "      <td>59.864845</td>\n",
       "    </tr>\n",
       "    <tr>\n",
       "      <td>5665</td>\n",
       "      <td>30.520393</td>\n",
       "      <td>59.905045</td>\n",
       "    </tr>\n",
       "    <tr>\n",
       "      <td>5673</td>\n",
       "      <td>30.312796</td>\n",
       "      <td>60.069901</td>\n",
       "    </tr>\n",
       "    <tr>\n",
       "      <td>5674</td>\n",
       "      <td>30.428726</td>\n",
       "      <td>60.055283</td>\n",
       "    </tr>\n",
       "    <tr>\n",
       "      <td>...</td>\n",
       "      <td>...</td>\n",
       "      <td>...</td>\n",
       "    </tr>\n",
       "    <tr>\n",
       "      <td>869827</td>\n",
       "      <td>30.331354</td>\n",
       "      <td>59.897446</td>\n",
       "    </tr>\n",
       "    <tr>\n",
       "      <td>1276125</td>\n",
       "      <td>30.157072</td>\n",
       "      <td>59.840370</td>\n",
       "    </tr>\n",
       "    <tr>\n",
       "      <td>1330342</td>\n",
       "      <td>30.341740</td>\n",
       "      <td>59.851494</td>\n",
       "    </tr>\n",
       "    <tr>\n",
       "      <td>1342441</td>\n",
       "      <td>30.293653</td>\n",
       "      <td>59.906151</td>\n",
       "    </tr>\n",
       "    <tr>\n",
       "      <td>1467796</td>\n",
       "      <td>30.342773</td>\n",
       "      <td>59.844585</td>\n",
       "    </tr>\n",
       "  </tbody>\n",
       "</table>\n",
       "<p>409 rows × 2 columns</p>\n",
       "</div>"
      ],
      "text/plain": [
       "            longitude   latitude\n",
       "complex_id                      \n",
       "1743        30.335373  60.074814\n",
       "5630        30.509611  59.864845\n",
       "5665        30.520393  59.905045\n",
       "5673        30.312796  60.069901\n",
       "5674        30.428726  60.055283\n",
       "...               ...        ...\n",
       "869827      30.331354  59.897446\n",
       "1276125     30.157072  59.840370\n",
       "1330342     30.341740  59.851494\n",
       "1342441     30.293653  59.906151\n",
       "1467796     30.342773  59.844585\n",
       "\n",
       "[409 rows x 2 columns]"
      ]
     },
     "execution_count": 40,
     "metadata": {},
     "output_type": "execute_result"
    }
   ],
   "source": [
    "# Сохраняем информацию об отобранных ЖК в DataFrame\n",
    "geo, columns = client.execute('select complex_id, longitude, latitude from realty_db.distr_complexes_prices', with_column_types=True)\n",
    "geo_df = pd.DataFrame(geo, columns=[tuple[0] for tuple in columns]).set_index('complex_id')\n",
    "geo_df"
   ]
  },
  {
   "cell_type": "code",
   "execution_count": 41,
   "metadata": {},
   "outputs": [],
   "source": [
    "# Делаем нормализацию для кластеризации\n",
    "standardisedX_geo = scale(geo_df)\n",
    "standardisedX_geo = pd.DataFrame(standardisedX_geo, index=geo_df.index, columns=geo_df.columns)"
   ]
  },
  {
   "cell_type": "code",
   "execution_count": 42,
   "metadata": {},
   "outputs": [],
   "source": [
    "# Кластеризуем ЖК на 55 кластеров (количество кластеров было подобрано эмпирически под нашу задачу)\n",
    "model_geo55 = KMeans(n_clusters = 55)\n",
    "model_geo55.fit(standardisedX_geo)\n",
    "predictions_geo55 = model_geo55.predict(standardisedX_geo)\n",
    "\n",
    "# Добавляем информацию о кластерах в DataFrame \n",
    "geo_df['cluster'] = predictions_geo55"
   ]
  },
  {
   "cell_type": "markdown",
   "metadata": {},
   "source": [
    "## Сокращение размерности данных об инфраструктурных объектах методом главных компонент (PCA)\n",
    "\n",
    "Чтобы получить одну переменную, которая характеризовала бы уровень инфраструктуры, мы сокращаем размерность данных методом главных компонент. Для этого мы используем его реализацию из библиотеки `scikit-learn`."
   ]
  },
  {
   "cell_type": "code",
   "execution_count": 48,
   "metadata": {},
   "outputs": [],
   "source": [
    "from sklearn.decomposition import PCA"
   ]
  },
  {
   "cell_type": "code",
   "execution_count": 52,
   "metadata": {},
   "outputs": [],
   "source": [
    "# Сохраняем информацию о количестве инфраструктурных объектов в пешей доступности в DataFrame\n",
    "result, columns = client.execute('SELECT * FROM realty_db.distr_complexes_infr_summary ORDER BY complex_id', with_column_types=True)\n",
    "infro_sum_df = pd.DataFrame(result, columns=[tuple[0] for tuple in columns])\n",
    "\n",
    "# Преобразовываем DataFrame для удобства дальнейшего анализа\n",
    "infr_df_reverse = pd.pivot_table(infro_sum_df, values='total_object_num', index=['complex_id'],\n",
    "                    columns=['object_category']).fillna(0)\n",
    "infr_df_reverse = infr_df_reverse.rename(columns={\"аптека\": \"pharmacy\", \"больница\": \"hospital\", \n",
    "                         \"дрогери\": \"drogery\", \"кафе и ресторан\": \"restaurant\", \"метро\": \"subway\", \n",
    "                         \"парк\": \"park\", \"пекарня\": \"bakery\",  \"супгип\": \"markets\",  \"транспорт\": \"transport\",\n",
    "                         \"фитнес\": \"fitness\",  \"школа\": \"school\"})"
   ]
  },
  {
   "cell_type": "code",
   "execution_count": 53,
   "metadata": {},
   "outputs": [],
   "source": [
    "# Выбираем только поля, содержащие инфраструктурные переменные для метода главных компонент\n",
    "infro_pca_df = infr_df_reverse[[\"pharmacy\",\"hospital\", \"drogery\", \"restaurant\", \"subway\", \"park\", \"bakery\", \"markets\",\n",
    "                         \"transport\", \"fitness\", \"school\"]]"
   ]
  },
  {
   "cell_type": "code",
   "execution_count": 54,
   "metadata": {},
   "outputs": [
    {
     "name": "stdout",
     "output_type": "stream",
     "text": [
      "Explained variance:  0.7230693821253514\n"
     ]
    }
   ],
   "source": [
    "# Применяем метод главных компонент к нашим подготовленным данным\n",
    "pca = PCA(n_components = 1)\n",
    "XPCAreduced = pca.fit_transform(infro_pca_df)\n",
    "print('Explained variance: ', pca.explained_variance_ratio_[0])"
   ]
  },
  {
   "cell_type": "code",
   "execution_count": 55,
   "metadata": {},
   "outputs": [],
   "source": [
    "# Для удобства дальнейшего анализа, сдвигаем результат на отрезок [0, 4]\n",
    "shifted_xpca = []\n",
    "delta = XPCAreduced.max() - XPCAreduced.min()\n",
    "for i in range(len(XPCAreduced)):\n",
    "    shifted_xpca.append((XPCAreduced[i][0] - XPCAreduced.min()) * 4 / delta )"
   ]
  },
  {
   "cell_type": "code",
   "execution_count": 56,
   "metadata": {},
   "outputs": [
    {
     "data": {
      "text/html": [
       "<div>\n",
       "<style scoped>\n",
       "    .dataframe tbody tr th:only-of-type {\n",
       "        vertical-align: middle;\n",
       "    }\n",
       "\n",
       "    .dataframe tbody tr th {\n",
       "        vertical-align: top;\n",
       "    }\n",
       "\n",
       "    .dataframe thead th {\n",
       "        text-align: right;\n",
       "    }\n",
       "</style>\n",
       "<table border=\"1\" class=\"dataframe\">\n",
       "  <thead>\n",
       "    <tr style=\"text-align: right;\">\n",
       "      <th>object_category</th>\n",
       "      <th>pharmacy</th>\n",
       "      <th>hospital</th>\n",
       "      <th>drogery</th>\n",
       "      <th>restaurant</th>\n",
       "      <th>subway</th>\n",
       "      <th>park</th>\n",
       "      <th>bakery</th>\n",
       "      <th>markets</th>\n",
       "      <th>transport</th>\n",
       "      <th>fitness</th>\n",
       "      <th>school</th>\n",
       "      <th>pca_infr_comp</th>\n",
       "    </tr>\n",
       "    <tr>\n",
       "      <th>complex_id</th>\n",
       "      <th></th>\n",
       "      <th></th>\n",
       "      <th></th>\n",
       "      <th></th>\n",
       "      <th></th>\n",
       "      <th></th>\n",
       "      <th></th>\n",
       "      <th></th>\n",
       "      <th></th>\n",
       "      <th></th>\n",
       "      <th></th>\n",
       "      <th></th>\n",
       "    </tr>\n",
       "  </thead>\n",
       "  <tbody>\n",
       "    <tr>\n",
       "      <td>96</td>\n",
       "      <td>4.0</td>\n",
       "      <td>0.0</td>\n",
       "      <td>0.0</td>\n",
       "      <td>2.0</td>\n",
       "      <td>0.0</td>\n",
       "      <td>0.0</td>\n",
       "      <td>0.0</td>\n",
       "      <td>2.0</td>\n",
       "      <td>9.0</td>\n",
       "      <td>4.0</td>\n",
       "      <td>1.0</td>\n",
       "      <td>0.107508</td>\n",
       "    </tr>\n",
       "    <tr>\n",
       "      <td>1743</td>\n",
       "      <td>11.0</td>\n",
       "      <td>0.0</td>\n",
       "      <td>3.0</td>\n",
       "      <td>14.0</td>\n",
       "      <td>1.0</td>\n",
       "      <td>0.0</td>\n",
       "      <td>11.0</td>\n",
       "      <td>9.0</td>\n",
       "      <td>20.0</td>\n",
       "      <td>11.0</td>\n",
       "      <td>4.0</td>\n",
       "      <td>0.436819</td>\n",
       "    </tr>\n",
       "    <tr>\n",
       "      <td>3126</td>\n",
       "      <td>12.0</td>\n",
       "      <td>2.0</td>\n",
       "      <td>0.0</td>\n",
       "      <td>27.0</td>\n",
       "      <td>1.0</td>\n",
       "      <td>1.0</td>\n",
       "      <td>15.0</td>\n",
       "      <td>11.0</td>\n",
       "      <td>49.0</td>\n",
       "      <td>5.0</td>\n",
       "      <td>7.0</td>\n",
       "      <td>0.748494</td>\n",
       "    </tr>\n",
       "    <tr>\n",
       "      <td>5114</td>\n",
       "      <td>0.0</td>\n",
       "      <td>0.0</td>\n",
       "      <td>3.0</td>\n",
       "      <td>4.0</td>\n",
       "      <td>0.0</td>\n",
       "      <td>0.0</td>\n",
       "      <td>2.0</td>\n",
       "      <td>1.0</td>\n",
       "      <td>1.0</td>\n",
       "      <td>1.0</td>\n",
       "      <td>2.0</td>\n",
       "      <td>0.071226</td>\n",
       "    </tr>\n",
       "    <tr>\n",
       "      <td>5190</td>\n",
       "      <td>7.0</td>\n",
       "      <td>0.0</td>\n",
       "      <td>0.0</td>\n",
       "      <td>3.0</td>\n",
       "      <td>0.0</td>\n",
       "      <td>0.0</td>\n",
       "      <td>5.0</td>\n",
       "      <td>8.0</td>\n",
       "      <td>9.0</td>\n",
       "      <td>1.0</td>\n",
       "      <td>1.0</td>\n",
       "      <td>0.145065</td>\n",
       "    </tr>\n",
       "    <tr>\n",
       "      <td>...</td>\n",
       "      <td>...</td>\n",
       "      <td>...</td>\n",
       "      <td>...</td>\n",
       "      <td>...</td>\n",
       "      <td>...</td>\n",
       "      <td>...</td>\n",
       "      <td>...</td>\n",
       "      <td>...</td>\n",
       "      <td>...</td>\n",
       "      <td>...</td>\n",
       "      <td>...</td>\n",
       "      <td>...</td>\n",
       "    </tr>\n",
       "    <tr>\n",
       "      <td>1327970</td>\n",
       "      <td>1.0</td>\n",
       "      <td>0.0</td>\n",
       "      <td>0.0</td>\n",
       "      <td>4.0</td>\n",
       "      <td>0.0</td>\n",
       "      <td>0.0</td>\n",
       "      <td>1.0</td>\n",
       "      <td>3.0</td>\n",
       "      <td>3.0</td>\n",
       "      <td>3.0</td>\n",
       "      <td>0.0</td>\n",
       "      <td>0.088841</td>\n",
       "    </tr>\n",
       "    <tr>\n",
       "      <td>1330342</td>\n",
       "      <td>18.0</td>\n",
       "      <td>1.0</td>\n",
       "      <td>6.0</td>\n",
       "      <td>37.0</td>\n",
       "      <td>2.0</td>\n",
       "      <td>2.0</td>\n",
       "      <td>24.0</td>\n",
       "      <td>22.0</td>\n",
       "      <td>62.0</td>\n",
       "      <td>18.0</td>\n",
       "      <td>10.0</td>\n",
       "      <td>1.099186</td>\n",
       "    </tr>\n",
       "    <tr>\n",
       "      <td>1342441</td>\n",
       "      <td>24.0</td>\n",
       "      <td>5.0</td>\n",
       "      <td>19.0</td>\n",
       "      <td>53.0</td>\n",
       "      <td>2.0</td>\n",
       "      <td>0.0</td>\n",
       "      <td>28.0</td>\n",
       "      <td>15.0</td>\n",
       "      <td>56.0</td>\n",
       "      <td>19.0</td>\n",
       "      <td>10.0</td>\n",
       "      <td>1.314930</td>\n",
       "    </tr>\n",
       "    <tr>\n",
       "      <td>1383381</td>\n",
       "      <td>13.0</td>\n",
       "      <td>31.0</td>\n",
       "      <td>8.0</td>\n",
       "      <td>57.0</td>\n",
       "      <td>0.0</td>\n",
       "      <td>4.0</td>\n",
       "      <td>24.0</td>\n",
       "      <td>9.0</td>\n",
       "      <td>39.0</td>\n",
       "      <td>57.0</td>\n",
       "      <td>6.0</td>\n",
       "      <td>1.503611</td>\n",
       "    </tr>\n",
       "    <tr>\n",
       "      <td>1467796</td>\n",
       "      <td>19.0</td>\n",
       "      <td>0.0</td>\n",
       "      <td>7.0</td>\n",
       "      <td>40.0</td>\n",
       "      <td>3.0</td>\n",
       "      <td>1.0</td>\n",
       "      <td>30.0</td>\n",
       "      <td>26.0</td>\n",
       "      <td>62.0</td>\n",
       "      <td>19.0</td>\n",
       "      <td>8.0</td>\n",
       "      <td>1.171165</td>\n",
       "    </tr>\n",
       "  </tbody>\n",
       "</table>\n",
       "<p>407 rows × 12 columns</p>\n",
       "</div>"
      ],
      "text/plain": [
       "object_category  pharmacy  hospital  drogery  restaurant  subway  park  \\\n",
       "complex_id                                                               \n",
       "96                    4.0       0.0      0.0         2.0     0.0   0.0   \n",
       "1743                 11.0       0.0      3.0        14.0     1.0   0.0   \n",
       "3126                 12.0       2.0      0.0        27.0     1.0   1.0   \n",
       "5114                  0.0       0.0      3.0         4.0     0.0   0.0   \n",
       "5190                  7.0       0.0      0.0         3.0     0.0   0.0   \n",
       "...                   ...       ...      ...         ...     ...   ...   \n",
       "1327970               1.0       0.0      0.0         4.0     0.0   0.0   \n",
       "1330342              18.0       1.0      6.0        37.0     2.0   2.0   \n",
       "1342441              24.0       5.0     19.0        53.0     2.0   0.0   \n",
       "1383381              13.0      31.0      8.0        57.0     0.0   4.0   \n",
       "1467796              19.0       0.0      7.0        40.0     3.0   1.0   \n",
       "\n",
       "object_category  bakery  markets  transport  fitness  school  pca_infr_comp  \n",
       "complex_id                                                                   \n",
       "96                  0.0      2.0        9.0      4.0     1.0       0.107508  \n",
       "1743               11.0      9.0       20.0     11.0     4.0       0.436819  \n",
       "3126               15.0     11.0       49.0      5.0     7.0       0.748494  \n",
       "5114                2.0      1.0        1.0      1.0     2.0       0.071226  \n",
       "5190                5.0      8.0        9.0      1.0     1.0       0.145065  \n",
       "...                 ...      ...        ...      ...     ...            ...  \n",
       "1327970             1.0      3.0        3.0      3.0     0.0       0.088841  \n",
       "1330342            24.0     22.0       62.0     18.0    10.0       1.099186  \n",
       "1342441            28.0     15.0       56.0     19.0    10.0       1.314930  \n",
       "1383381            24.0      9.0       39.0     57.0     6.0       1.503611  \n",
       "1467796            30.0     26.0       62.0     19.0     8.0       1.171165  \n",
       "\n",
       "[407 rows x 12 columns]"
      ]
     },
     "execution_count": 56,
     "metadata": {},
     "output_type": "execute_result"
    }
   ],
   "source": [
    "# Дабавляем в DataFrame значение переменной инфраструктуры, полученной методом главных компонент\n",
    "infr_df_reverse['pca_infr_comp'] = shifted_xpca\n",
    "infr_df_reverse"
   ]
  },
  {
   "cell_type": "code",
   "execution_count": 57,
   "metadata": {},
   "outputs": [
    {
     "data": {
      "text/plain": [
       "count    407.000000\n",
       "mean       0.610724\n",
       "std        0.595857\n",
       "min        0.000000\n",
       "25%        0.147562\n",
       "50%        0.483248\n",
       "75%        0.844783\n",
       "max        4.000000\n",
       "Name: pca_infr_comp, dtype: float64"
      ]
     },
     "execution_count": 57,
     "metadata": {},
     "output_type": "execute_result"
    }
   ],
   "source": [
    "# Статистика по значениям новой переменной инфраструктуры\n",
    "infr_df_reverse['pca_infr_comp'].describe()"
   ]
  },
  {
   "cell_type": "code",
   "execution_count": 59,
   "metadata": {},
   "outputs": [
    {
     "data": {
      "text/plain": [
       "<matplotlib.axes._subplots.AxesSubplot at 0x1578d410>"
      ]
     },
     "execution_count": 59,
     "metadata": {},
     "output_type": "execute_result"
    },
    {
     "data": {
      "image/png": "[encoded data removed]",
      "text/plain": [
       "<Figure size 432x288 with 1 Axes>"
      ]
     },
     "metadata": {
      "needs_background": "light"
     },
     "output_type": "display_data"
    }
   ],
   "source": [
    "import seaborn as sns\n",
    "\n",
    "%matplotlib inline\n",
    "\n",
    "# График распределения значений новой переменной инфраструктуры\n",
    "sns.distplot(infr_df_reverse['pca_infr_comp'], bins = 15, kde=True, norm_hist=True, label=f'New variable')"
   ]
  },
  {
   "cell_type": "code",
   "execution_count": 60,
   "metadata": {},
   "outputs": [],
   "source": [
    "# Добавляем суммарную инфраструктуру в DataFrame с кластерами\n",
    "geo_df['sum_infr'] = infr_df_reverse['pca_infr_comp']\n",
    "geo_df = geo_df.fillna(0)"
   ]
  },
  {
   "cell_type": "markdown",
   "metadata": {},
   "source": [
    "## Разделение кластеров по ценовым сегментам\n",
    "\n",
    "После кластеризации мы анализируем полученные географические районы. Для каждого из таких районов мы определяем ценовой сегмент на основе данных о средней стоимости квадратного метра в однокомнатных квартирах ЖК, которые там находятся.\n",
    "\n",
    "Данные о средней стоимости квадратного метра берутся из materialized view `distr_complexes_prices`, а для разделения на ценовые сегменты используется `Gaussian Mixture Model`, параметры которой подбираются с целью оптимизировать Байесовский критерий."
   ]
  },
  {
   "cell_type": "code",
   "execution_count": 67,
   "metadata": {},
   "outputs": [],
   "source": [
    "from sklearn import mixture"
   ]
  },
  {
   "cell_type": "code",
   "execution_count": 61,
   "metadata": {},
   "outputs": [
    {
     "data": {
      "text/html": [
       "<div>\n",
       "<style scoped>\n",
       "    .dataframe tbody tr th:only-of-type {\n",
       "        vertical-align: middle;\n",
       "    }\n",
       "\n",
       "    .dataframe tbody tr th {\n",
       "        vertical-align: top;\n",
       "    }\n",
       "\n",
       "    .dataframe thead th {\n",
       "        text-align: right;\n",
       "    }\n",
       "</style>\n",
       "<table border=\"1\" class=\"dataframe\">\n",
       "  <thead>\n",
       "    <tr style=\"text-align: right;\">\n",
       "      <th></th>\n",
       "      <th>longitude</th>\n",
       "      <th>latitude</th>\n",
       "      <th>avg_price_for_meter</th>\n",
       "    </tr>\n",
       "    <tr>\n",
       "      <th>complex_id</th>\n",
       "      <th></th>\n",
       "      <th></th>\n",
       "      <th></th>\n",
       "    </tr>\n",
       "  </thead>\n",
       "  <tbody>\n",
       "    <tr>\n",
       "      <td>1743</td>\n",
       "      <td>30.335373</td>\n",
       "      <td>60.074814</td>\n",
       "      <td>107537.217119</td>\n",
       "    </tr>\n",
       "    <tr>\n",
       "      <td>5630</td>\n",
       "      <td>30.509611</td>\n",
       "      <td>59.864845</td>\n",
       "      <td>109988.053571</td>\n",
       "    </tr>\n",
       "    <tr>\n",
       "      <td>5665</td>\n",
       "      <td>30.520393</td>\n",
       "      <td>59.905045</td>\n",
       "      <td>125942.500000</td>\n",
       "    </tr>\n",
       "    <tr>\n",
       "      <td>5673</td>\n",
       "      <td>30.312796</td>\n",
       "      <td>60.069901</td>\n",
       "      <td>112746.300000</td>\n",
       "    </tr>\n",
       "    <tr>\n",
       "      <td>5674</td>\n",
       "      <td>30.428726</td>\n",
       "      <td>60.055283</td>\n",
       "      <td>117847.600000</td>\n",
       "    </tr>\n",
       "    <tr>\n",
       "      <td>...</td>\n",
       "      <td>...</td>\n",
       "      <td>...</td>\n",
       "      <td>...</td>\n",
       "    </tr>\n",
       "    <tr>\n",
       "      <td>869827</td>\n",
       "      <td>30.331354</td>\n",
       "      <td>59.897446</td>\n",
       "      <td>147323.940154</td>\n",
       "    </tr>\n",
       "    <tr>\n",
       "      <td>1276125</td>\n",
       "      <td>30.157072</td>\n",
       "      <td>59.840370</td>\n",
       "      <td>112227.049180</td>\n",
       "    </tr>\n",
       "    <tr>\n",
       "      <td>1330342</td>\n",
       "      <td>30.341740</td>\n",
       "      <td>59.851494</td>\n",
       "      <td>100039.666667</td>\n",
       "    </tr>\n",
       "    <tr>\n",
       "      <td>1342441</td>\n",
       "      <td>30.293653</td>\n",
       "      <td>59.906151</td>\n",
       "      <td>161252.163636</td>\n",
       "    </tr>\n",
       "    <tr>\n",
       "      <td>1467796</td>\n",
       "      <td>30.342773</td>\n",
       "      <td>59.844585</td>\n",
       "      <td>193160.147727</td>\n",
       "    </tr>\n",
       "  </tbody>\n",
       "</table>\n",
       "<p>409 rows × 3 columns</p>\n",
       "</div>"
      ],
      "text/plain": [
       "            longitude   latitude  avg_price_for_meter\n",
       "complex_id                                           \n",
       "1743        30.335373  60.074814        107537.217119\n",
       "5630        30.509611  59.864845        109988.053571\n",
       "5665        30.520393  59.905045        125942.500000\n",
       "5673        30.312796  60.069901        112746.300000\n",
       "5674        30.428726  60.055283        117847.600000\n",
       "...               ...        ...                  ...\n",
       "869827      30.331354  59.897446        147323.940154\n",
       "1276125     30.157072  59.840370        112227.049180\n",
       "1330342     30.341740  59.851494        100039.666667\n",
       "1342441     30.293653  59.906151        161252.163636\n",
       "1467796     30.342773  59.844585        193160.147727\n",
       "\n",
       "[409 rows x 3 columns]"
      ]
     },
     "execution_count": 61,
     "metadata": {},
     "output_type": "execute_result"
    }
   ],
   "source": [
    "# Загружаем информацию о средней стоимости однокомнатных квартир в ЖК за метр квадратный\n",
    "price, columns = client.execute('SELECT * FROM realty_db.distr_complexes_prices', with_column_types=True)\n",
    "complex_avg_df = pd.DataFrame(price, columns=[tuple[0] for tuple in columns]).set_index('complex_id')\n",
    "complex_avg_df"
   ]
  },
  {
   "cell_type": "code",
   "execution_count": 68,
   "metadata": {},
   "outputs": [],
   "source": [
    "# Функция, которая по переданным данным подбирает оптимальные параметры для gaussian mixture model, \n",
    "# применяет модель на переданных данных и возвращает присвоенные метки \n",
    "# Параметры n_components_min и n_components_max - это минимальное и максимальное значения \n",
    "# допустимого количества компонент в разбиении. В этих пределах будет идти поиск оптимального\n",
    "def apply_gaussian_mixture(input_data, n_components_min, n_components_max):\n",
    "    X = input_data.transpose()\n",
    "    \n",
    "    # Gaussian mixture\n",
    "    # Подбираем оптимальные параметры для Gaussian mixture на основе Байесовского критерия (bic)\n",
    "    lowest_bic = np.infty\n",
    "    bic = []\n",
    "    n_components_range = range(n_components_min, n_components_max + 1)\n",
    "    cv_types = ['spherical', 'tied', 'diag', 'full']\n",
    "    for cv_type in cv_types:\n",
    "        for n_components in n_components_range:\n",
    "            # Fit a Gaussian mixture with EM\n",
    "            gmm = mixture.GaussianMixture(n_components=n_components,\n",
    "                                          covariance_type=cv_type)\n",
    "            gmm.fit(X)\n",
    "            bic.append(gmm.bic(X))\n",
    "            if bic[-1] < lowest_bic:\n",
    "                lowest_bic = bic[-1]\n",
    "                best_gmm = gmm\n",
    "\n",
    "    bic = np.array(bic)\n",
    "    price_categories = best_gmm.predict(X)\n",
    "\n",
    "    return price_categories"
   ]
  },
  {
   "cell_type": "code",
   "execution_count": 74,
   "metadata": {},
   "outputs": [],
   "source": [
    "# Запускаем функцию разбиения и добавляем информацию о ценовом сегменте в DataFrame\n",
    "# complex_avg_df = add_gauss_price_segment(complex_avg_df)\n",
    "price_labels = apply_gaussian_mixture(np.array([complex_avg_df['avg_price_for_meter'].values]), 5, 5)\n",
    "complex_avg_df['price_segment'] = price_labels"
   ]
  },
  {
   "cell_type": "code",
   "execution_count": 75,
   "metadata": {},
   "outputs": [],
   "source": [
    "# Изменяем присвоенные метки так, чтобы они шли по порядку (0 соответствовал низшему ценовому сегменту, 4 - высшему)\n",
    "ordered_segment = list(complex_avg_df.groupby('price_segment')['avg_price_for_meter'].mean().sort_values().index)\n",
    "\n",
    "complex_avg_df.loc[complex_avg_df.price_segment==ordered_segment[0],'price_segment_new'] = 0\n",
    "complex_avg_df.loc[complex_avg_df.price_segment==ordered_segment[1],'price_segment_new'] = 1\n",
    "complex_avg_df.loc[complex_avg_df.price_segment==ordered_segment[2],'price_segment_new'] = 2\n",
    "complex_avg_df.loc[complex_avg_df.price_segment==ordered_segment[3],'price_segment_new'] = 3\n",
    "complex_avg_df.loc[complex_avg_df.price_segment==ordered_segment[4],'price_segment_new'] = 4\n",
    "complex_avg_df = complex_avg_df.astype({\"price_segment_new\": np.int64})"
   ]
  },
  {
   "cell_type": "code",
   "execution_count": 76,
   "metadata": {},
   "outputs": [
    {
     "data": {
      "text/html": [
       "<div>\n",
       "<style scoped>\n",
       "    .dataframe tbody tr th:only-of-type {\n",
       "        vertical-align: middle;\n",
       "    }\n",
       "\n",
       "    .dataframe tbody tr th {\n",
       "        vertical-align: top;\n",
       "    }\n",
       "\n",
       "    .dataframe thead th {\n",
       "        text-align: right;\n",
       "    }\n",
       "</style>\n",
       "<table border=\"1\" class=\"dataframe\">\n",
       "  <thead>\n",
       "    <tr style=\"text-align: right;\">\n",
       "      <th></th>\n",
       "      <th>min</th>\n",
       "      <th>max</th>\n",
       "      <th>mean</th>\n",
       "    </tr>\n",
       "    <tr>\n",
       "      <th>price_segment_new</th>\n",
       "      <th></th>\n",
       "      <th></th>\n",
       "      <th></th>\n",
       "    </tr>\n",
       "  </thead>\n",
       "  <tbody>\n",
       "    <tr>\n",
       "      <td>0</td>\n",
       "      <td>51472.100000</td>\n",
       "      <td>121222.287926</td>\n",
       "      <td>94480.375014</td>\n",
       "    </tr>\n",
       "    <tr>\n",
       "      <td>1</td>\n",
       "      <td>122235.093212</td>\n",
       "      <td>185970.040541</td>\n",
       "      <td>148712.092595</td>\n",
       "    </tr>\n",
       "    <tr>\n",
       "      <td>2</td>\n",
       "      <td>186632.657718</td>\n",
       "      <td>253743.535714</td>\n",
       "      <td>215919.816054</td>\n",
       "    </tr>\n",
       "    <tr>\n",
       "      <td>3</td>\n",
       "      <td>256330.500000</td>\n",
       "      <td>350616.057692</td>\n",
       "      <td>286435.411466</td>\n",
       "    </tr>\n",
       "    <tr>\n",
       "      <td>4</td>\n",
       "      <td>378973.678571</td>\n",
       "      <td>541308.944444</td>\n",
       "      <td>450309.254984</td>\n",
       "    </tr>\n",
       "  </tbody>\n",
       "</table>\n",
       "</div>"
      ],
      "text/plain": [
       "                             min            max           mean\n",
       "price_segment_new                                             \n",
       "0                   51472.100000  121222.287926   94480.375014\n",
       "1                  122235.093212  185970.040541  148712.092595\n",
       "2                  186632.657718  253743.535714  215919.816054\n",
       "3                  256330.500000  350616.057692  286435.411466\n",
       "4                  378973.678571  541308.944444  450309.254984"
      ]
     },
     "execution_count": 76,
     "metadata": {},
     "output_type": "execute_result"
    }
   ],
   "source": [
    "# Статистика по полученным ценовым сегментам \n",
    "complex_avg_df.groupby('price_segment_new')['avg_price_for_meter'].agg(['min','max','mean'])"
   ]
  },
  {
   "cell_type": "code",
   "execution_count": 77,
   "metadata": {},
   "outputs": [],
   "source": [
    "# Добавляем информацию о ценовых сегментах к DataFrame с кластерами\n",
    "geo_df['price_segment'] = complex_avg_df['price_segment_new']\n",
    "geo_df = geo_df.fillna(0)"
   ]
  },
  {
   "cell_type": "markdown",
   "metadata": {
    "heading_collapsed": true
   },
   "source": [
    "## Загрузка информации о географических кластерах с переменными инфраструктуры и ценовыми сегментами в ClickHouse\n",
    "\n",
    "Результаты анализа загружаются в ClickHouse для дальнейшей обработки. Для этого создается таблица `clusters_info`."
   ]
  },
  {
   "cell_type": "code",
   "execution_count": 84,
   "metadata": {},
   "outputs": [],
   "source": [
    "# Подключение к серверу\n",
    "# У нас на Амазоне развернут кластер из двух серверов\n",
    "client = Client('3.23.248.232', user='default', password='qwerty') # наш первый сервер\n",
    "#client = Client('3.23.221.144', user='default', password='qwerty') # наш второй сервер"
   ]
  },
  {
   "cell_type": "code",
   "execution_count": 79,
   "metadata": {
    "hidden": true
   },
   "outputs": [],
   "source": [
    "# Приведение типов для успешной загрузки\n",
    "rows_cluster = geo_df.reset_index().values.tolist()\n",
    "for i in range(len(rows_cluster)):\n",
    "    rows_cluster[i][0] = np.int64(rows_cluster[i][0])\n",
    "    rows_cluster[i][3] = np.int32(rows_cluster[i][3])\n",
    "    rows_cluster[i][5] = np.int32(rows_cluster[i][5])"
   ]
  },
  {
   "cell_type": "code",
   "execution_count": 82,
   "metadata": {
    "hidden": true
   },
   "outputs": [
    {
     "data": {
      "text/plain": [
       "[]"
      ]
     },
     "execution_count": 82,
     "metadata": {},
     "output_type": "execute_result"
    }
   ],
   "source": [
    "# Создаем таблицу realty_db.clusters_info для загрузки промежуточных результатов анализа\n",
    "# Запустить необходимо на всех серверах в кластере (у нас их 2)\n",
    "client.execute('''\n",
    "    CREATE TABLE realty_db.clusters_info\n",
    "    (\n",
    "    complex_id Int64,\n",
    "    longitude Float32,\n",
    "    latitude Float32,\n",
    "    cluster Int32,\n",
    "    sum_infr Float32,\n",
    "    price_segment Int32\n",
    "    ) \n",
    "    ENGINE = MergeTree()\n",
    "    PARTITION BY cluster\n",
    "    ORDER BY complex_id\n",
    "    SETTINGS index_granularity=16\n",
    "    ''')"
   ]
  },
  {
   "cell_type": "code",
   "execution_count": 85,
   "metadata": {
    "hidden": true
   },
   "outputs": [
    {
     "data": {
      "text/plain": [
       "[]"
      ]
     },
     "execution_count": 85,
     "metadata": {},
     "output_type": "execute_result"
    }
   ],
   "source": [
    "# Делаем таблицу realty_db.clusters_info распределенной\n",
    "client.execute('''\n",
    "    CREATE TABLE realty_db.distr_clusters_info as realty_db.clusters_info\n",
    "    ENGINE = Distributed(bd_real_estate_cluster, realty_db, clusters_info, xxHash64(complex_id))\n",
    "    ''')"
   ]
  },
  {
   "cell_type": "code",
   "execution_count": 86,
   "metadata": {
    "hidden": true
   },
   "outputs": [
    {
     "data": {
      "text/plain": [
       "409"
      ]
     },
     "execution_count": 86,
     "metadata": {},
     "output_type": "execute_result"
    }
   ],
   "source": [
    "# Вставляем данные в таблицу\n",
    "client.execute(\"INSERT INTO realty_db.distr_clusters_info VALUES\", rows_cluster)"
   ]
  },
  {
   "cell_type": "markdown",
   "metadata": {
    "heading_collapsed": true
   },
   "source": [
    "## Группировка по кластерам, подсчет радиуса кластера для отображения на карте и уровня развития инфраструктуры в кластере\n",
    "\n",
    "Финальная часть анализа - группируем жилые комплексы по кластерам, для каждого кластера находим его радиус и считаем уровень развития инфраструктуры, применяя gaussian mixture model к переменной инфраструктуры, пересчитанной для кластеров.\n",
    "\n",
    "Радиус для каждого кластера считается как половина от расстояния между двумя самыми отдаленными жк в этом кластере."
   ]
  },
  {
   "cell_type": "code",
   "execution_count": 87,
   "metadata": {
    "hidden": true
   },
   "outputs": [],
   "source": [
    "# Делаем запрос в БД, чтобы получить для каждого кластера информацию о среднем уровне развития инфраструктуры в кластере \n",
    "# и радиус кластера \n",
    "cluster, columns = client.execute('''\n",
    "        select \n",
    "        cluster, avg(sum_infr) as avg_infr, \n",
    "        (min(latitude) + (max(latitude)-min(latitude))/2) as cluster_lat,\n",
    "        (min(longitude) + (max(longitude)-min(longitude))/2) as cluster_long,\n",
    "        greatCircleDistance(max(longitude), max(latitude), min(longitude), min(latitude))/2 as radius\n",
    "        from realty_db.distr_clusters_info \n",
    "        Group by cluster\n",
    "''', with_column_types=True)\n",
    "\n",
    "cluster_geo = pd.DataFrame(cluster, columns=[tuple[0] for tuple in columns])\n",
    "\n",
    "# Обрабатываем ситуацию, когда в кластер попал только 1 ЖК\n",
    "cluster_geo.loc[cluster_geo.radius==0,'radius'] = 1000"
   ]
  },
  {
   "cell_type": "code",
   "execution_count": 89,
   "metadata": {
    "hidden": true,
    "scrolled": true
   },
   "outputs": [],
   "source": [
    "# Запускаем функцию разбиения (gaussian mixture) и добавляем информацию об уровне развития инфраструктуры в DataFrame\n",
    "infr_labels = apply_gaussian_mixture(np.array([cluster_geo['avg_infr'].values]), 4, 4)\n",
    "cluster_geo['infr_level'] = infr_labels"
   ]
  },
  {
   "cell_type": "code",
   "execution_count": 91,
   "metadata": {},
   "outputs": [
    {
     "data": {
      "text/html": [
       "<div>\n",
       "<style scoped>\n",
       "    .dataframe tbody tr th:only-of-type {\n",
       "        vertical-align: middle;\n",
       "    }\n",
       "\n",
       "    .dataframe tbody tr th {\n",
       "        vertical-align: top;\n",
       "    }\n",
       "\n",
       "    .dataframe thead th {\n",
       "        text-align: right;\n",
       "    }\n",
       "</style>\n",
       "<table border=\"1\" class=\"dataframe\">\n",
       "  <thead>\n",
       "    <tr style=\"text-align: right;\">\n",
       "      <th></th>\n",
       "      <th>cluster</th>\n",
       "      <th>avg_infr</th>\n",
       "      <th>cluster_lat</th>\n",
       "      <th>cluster_long</th>\n",
       "      <th>radius</th>\n",
       "      <th>infr_level</th>\n",
       "      <th>infr_level_new</th>\n",
       "    </tr>\n",
       "  </thead>\n",
       "  <tbody>\n",
       "    <tr>\n",
       "      <td>0</td>\n",
       "      <td>0</td>\n",
       "      <td>0.103877</td>\n",
       "      <td>59.823748</td>\n",
       "      <td>30.542056</td>\n",
       "      <td>1882.521729</td>\n",
       "      <td>0</td>\n",
       "      <td>0</td>\n",
       "    </tr>\n",
       "    <tr>\n",
       "      <td>1</td>\n",
       "      <td>41</td>\n",
       "      <td>0.059701</td>\n",
       "      <td>59.931074</td>\n",
       "      <td>30.629206</td>\n",
       "      <td>1015.328613</td>\n",
       "      <td>0</td>\n",
       "      <td>0</td>\n",
       "    </tr>\n",
       "    <tr>\n",
       "      <td>2</td>\n",
       "      <td>53</td>\n",
       "      <td>0.385352</td>\n",
       "      <td>60.059330</td>\n",
       "      <td>30.432486</td>\n",
       "      <td>1356.253052</td>\n",
       "      <td>1</td>\n",
       "      <td>1</td>\n",
       "    </tr>\n",
       "    <tr>\n",
       "      <td>3</td>\n",
       "      <td>46</td>\n",
       "      <td>0.033458</td>\n",
       "      <td>60.028128</td>\n",
       "      <td>30.746684</td>\n",
       "      <td>324.287750</td>\n",
       "      <td>0</td>\n",
       "      <td>0</td>\n",
       "    </tr>\n",
       "    <tr>\n",
       "      <td>4</td>\n",
       "      <td>50</td>\n",
       "      <td>0.700776</td>\n",
       "      <td>59.829309</td>\n",
       "      <td>30.339886</td>\n",
       "      <td>1833.953979</td>\n",
       "      <td>1</td>\n",
       "      <td>1</td>\n",
       "    </tr>\n",
       "    <tr>\n",
       "      <td>5</td>\n",
       "      <td>4</td>\n",
       "      <td>0.264466</td>\n",
       "      <td>60.053095</td>\n",
       "      <td>30.463586</td>\n",
       "      <td>1511.234985</td>\n",
       "      <td>1</td>\n",
       "      <td>1</td>\n",
       "    </tr>\n",
       "    <tr>\n",
       "      <td>6</td>\n",
       "      <td>24</td>\n",
       "      <td>0.407679</td>\n",
       "      <td>59.978798</td>\n",
       "      <td>30.426930</td>\n",
       "      <td>2853.006836</td>\n",
       "      <td>1</td>\n",
       "      <td>1</td>\n",
       "    </tr>\n",
       "    <tr>\n",
       "      <td>7</td>\n",
       "      <td>3</td>\n",
       "      <td>0.094760</td>\n",
       "      <td>59.829132</td>\n",
       "      <td>30.089950</td>\n",
       "      <td>2415.557617</td>\n",
       "      <td>0</td>\n",
       "      <td>0</td>\n",
       "    </tr>\n",
       "    <tr>\n",
       "      <td>8</td>\n",
       "      <td>31</td>\n",
       "      <td>0.612145</td>\n",
       "      <td>59.994556</td>\n",
       "      <td>30.373572</td>\n",
       "      <td>2306.095703</td>\n",
       "      <td>1</td>\n",
       "      <td>1</td>\n",
       "    </tr>\n",
       "    <tr>\n",
       "      <td>9</td>\n",
       "      <td>51</td>\n",
       "      <td>0.114288</td>\n",
       "      <td>59.984514</td>\n",
       "      <td>30.496926</td>\n",
       "      <td>2709.673340</td>\n",
       "      <td>0</td>\n",
       "      <td>0</td>\n",
       "    </tr>\n",
       "    <tr>\n",
       "      <td>10</td>\n",
       "      <td>47</td>\n",
       "      <td>0.971847</td>\n",
       "      <td>59.994495</td>\n",
       "      <td>30.253119</td>\n",
       "      <td>2123.390137</td>\n",
       "      <td>3</td>\n",
       "      <td>2</td>\n",
       "    </tr>\n",
       "    <tr>\n",
       "      <td>11</td>\n",
       "      <td>52</td>\n",
       "      <td>0.875142</td>\n",
       "      <td>60.010826</td>\n",
       "      <td>30.325027</td>\n",
       "      <td>2134.551025</td>\n",
       "      <td>3</td>\n",
       "      <td>2</td>\n",
       "    </tr>\n",
       "    <tr>\n",
       "      <td>12</td>\n",
       "      <td>40</td>\n",
       "      <td>0.010327</td>\n",
       "      <td>60.178471</td>\n",
       "      <td>30.130024</td>\n",
       "      <td>1000.000000</td>\n",
       "      <td>0</td>\n",
       "      <td>0</td>\n",
       "    </tr>\n",
       "    <tr>\n",
       "      <td>13</td>\n",
       "      <td>30</td>\n",
       "      <td>0.039083</td>\n",
       "      <td>59.787436</td>\n",
       "      <td>30.616510</td>\n",
       "      <td>1736.320190</td>\n",
       "      <td>0</td>\n",
       "      <td>0</td>\n",
       "    </tr>\n",
       "    <tr>\n",
       "      <td>14</td>\n",
       "      <td>2</td>\n",
       "      <td>0.914873</td>\n",
       "      <td>59.941975</td>\n",
       "      <td>30.411774</td>\n",
       "      <td>2312.863525</td>\n",
       "      <td>3</td>\n",
       "      <td>2</td>\n",
       "    </tr>\n",
       "    <tr>\n",
       "      <td>15</td>\n",
       "      <td>25</td>\n",
       "      <td>0.928896</td>\n",
       "      <td>59.868143</td>\n",
       "      <td>30.350950</td>\n",
       "      <td>2072.010254</td>\n",
       "      <td>3</td>\n",
       "      <td>2</td>\n",
       "    </tr>\n",
       "    <tr>\n",
       "      <td>16</td>\n",
       "      <td>5</td>\n",
       "      <td>0.432967</td>\n",
       "      <td>59.827255</td>\n",
       "      <td>30.391297</td>\n",
       "      <td>2722.972168</td>\n",
       "      <td>1</td>\n",
       "      <td>1</td>\n",
       "    </tr>\n",
       "    <tr>\n",
       "      <td>17</td>\n",
       "      <td>29</td>\n",
       "      <td>0.406675</td>\n",
       "      <td>59.898499</td>\n",
       "      <td>30.438831</td>\n",
       "      <td>2207.342285</td>\n",
       "      <td>1</td>\n",
       "      <td>1</td>\n",
       "    </tr>\n",
       "    <tr>\n",
       "      <td>18</td>\n",
       "      <td>1</td>\n",
       "      <td>0.221097</td>\n",
       "      <td>60.017746</td>\n",
       "      <td>30.178473</td>\n",
       "      <td>2538.919434</td>\n",
       "      <td>1</td>\n",
       "      <td>1</td>\n",
       "    </tr>\n",
       "    <tr>\n",
       "      <td>19</td>\n",
       "      <td>26</td>\n",
       "      <td>0.009427</td>\n",
       "      <td>59.773643</td>\n",
       "      <td>30.044144</td>\n",
       "      <td>252.490997</td>\n",
       "      <td>0</td>\n",
       "      <td>0</td>\n",
       "    </tr>\n",
       "  </tbody>\n",
       "</table>\n",
       "</div>"
      ],
      "text/plain": [
       "    cluster  avg_infr  cluster_lat  cluster_long       radius  infr_level  \\\n",
       "0         0  0.103877    59.823748     30.542056  1882.521729           0   \n",
       "1        41  0.059701    59.931074     30.629206  1015.328613           0   \n",
       "2        53  0.385352    60.059330     30.432486  1356.253052           1   \n",
       "3        46  0.033458    60.028128     30.746684   324.287750           0   \n",
       "4        50  0.700776    59.829309     30.339886  1833.953979           1   \n",
       "5         4  0.264466    60.053095     30.463586  1511.234985           1   \n",
       "6        24  0.407679    59.978798     30.426930  2853.006836           1   \n",
       "7         3  0.094760    59.829132     30.089950  2415.557617           0   \n",
       "8        31  0.612145    59.994556     30.373572  2306.095703           1   \n",
       "9        51  0.114288    59.984514     30.496926  2709.673340           0   \n",
       "10       47  0.971847    59.994495     30.253119  2123.390137           3   \n",
       "11       52  0.875142    60.010826     30.325027  2134.551025           3   \n",
       "12       40  0.010327    60.178471     30.130024  1000.000000           0   \n",
       "13       30  0.039083    59.787436     30.616510  1736.320190           0   \n",
       "14        2  0.914873    59.941975     30.411774  2312.863525           3   \n",
       "15       25  0.928896    59.868143     30.350950  2072.010254           3   \n",
       "16        5  0.432967    59.827255     30.391297  2722.972168           1   \n",
       "17       29  0.406675    59.898499     30.438831  2207.342285           1   \n",
       "18        1  0.221097    60.017746     30.178473  2538.919434           1   \n",
       "19       26  0.009427    59.773643     30.044144   252.490997           0   \n",
       "\n",
       "    infr_level_new  \n",
       "0                0  \n",
       "1                0  \n",
       "2                1  \n",
       "3                0  \n",
       "4                1  \n",
       "5                1  \n",
       "6                1  \n",
       "7                0  \n",
       "8                1  \n",
       "9                0  \n",
       "10               2  \n",
       "11               2  \n",
       "12               0  \n",
       "13               0  \n",
       "14               2  \n",
       "15               2  \n",
       "16               1  \n",
       "17               1  \n",
       "18               1  \n",
       "19               0  "
      ]
     },
     "execution_count": 91,
     "metadata": {},
     "output_type": "execute_result"
    }
   ],
   "source": [
    "# Сортируем метки по среднему уровню инфраструктуры и присваиваем новые значения\n",
    "ordered_segment = list(cluster_geo.groupby('infr_level')['avg_infr'].mean().sort_values().index)\n",
    "cluster_geo.loc[cluster_geo.infr_level==ordered_segment[0],'infr_level_new'] = 0\n",
    "cluster_geo.loc[cluster_geo.infr_level==ordered_segment[1],'infr_level_new'] = 1\n",
    "cluster_geo.loc[cluster_geo.infr_level==ordered_segment[2],'infr_level_new'] = 2\n",
    "cluster_geo.loc[cluster_geo.infr_level==ordered_segment[3],'infr_level_new'] = 3\n",
    "\n",
    "cluster_geo = cluster_geo.astype({\"infr_level_new\": np.int64})\n",
    "cluster_geo.head(20)"
   ]
  },
  {
   "cell_type": "markdown",
   "metadata": {},
   "source": [
    "## Отрисовка карты с результатом"
   ]
  },
  {
   "cell_type": "code",
   "execution_count": 6,
   "metadata": {},
   "outputs": [
    {
     "ename": "NameError",
     "evalue": "name 'cluster_geo' is not defined",
     "output_type": "error",
     "traceback": [
      "\u001b[1;31m---------------------------------------------------------------------------\u001b[0m",
      "\u001b[1;31mNameError\u001b[0m                                 Traceback (most recent call last)",
      "\u001b[1;32m<ipython-input-6-7bf1aced3058>\u001b[0m in \u001b[0;36m<module>\u001b[1;34m\u001b[0m\n\u001b[0;32m      7\u001b[0m \u001b[1;33m\u001b[0m\u001b[0m\n\u001b[0;32m      8\u001b[0m \u001b[1;31m# Добавляем на карту кластеры с уровнем инфраструктуры\u001b[0m\u001b[1;33m\u001b[0m\u001b[1;33m\u001b[0m\u001b[1;33m\u001b[0m\u001b[0m\n\u001b[1;32m----> 9\u001b[1;33m \u001b[1;32mfor\u001b[0m \u001b[0mi\u001b[0m \u001b[1;32min\u001b[0m \u001b[0mcluster_geo\u001b[0m\u001b[1;33m.\u001b[0m\u001b[0minfr_level_new\u001b[0m\u001b[1;33m.\u001b[0m\u001b[0munique\u001b[0m\u001b[1;33m(\u001b[0m\u001b[1;33m)\u001b[0m\u001b[1;33m:\u001b[0m\u001b[1;33m\u001b[0m\u001b[1;33m\u001b[0m\u001b[0m\n\u001b[0m\u001b[0;32m     10\u001b[0m     \u001b[0mdata_lat\u001b[0m \u001b[1;33m=\u001b[0m \u001b[0mlist\u001b[0m\u001b[1;33m(\u001b[0m\u001b[0mcluster_geo\u001b[0m\u001b[1;33m[\u001b[0m\u001b[0mcluster_geo\u001b[0m\u001b[1;33m.\u001b[0m\u001b[0minfr_level_new\u001b[0m \u001b[1;33m==\u001b[0m \u001b[0mi\u001b[0m\u001b[1;33m]\u001b[0m\u001b[1;33m.\u001b[0m\u001b[0mcluster_lat\u001b[0m\u001b[1;33m)\u001b[0m\u001b[1;33m\u001b[0m\u001b[1;33m\u001b[0m\u001b[0m\n\u001b[0;32m     11\u001b[0m     \u001b[0mdata_long\u001b[0m \u001b[1;33m=\u001b[0m \u001b[0mlist\u001b[0m\u001b[1;33m(\u001b[0m\u001b[0mcluster_geo\u001b[0m\u001b[1;33m[\u001b[0m\u001b[0mcluster_geo\u001b[0m\u001b[1;33m.\u001b[0m\u001b[0minfr_level_new\u001b[0m \u001b[1;33m==\u001b[0m \u001b[0mi\u001b[0m\u001b[1;33m]\u001b[0m\u001b[1;33m.\u001b[0m\u001b[0mcluster_long\u001b[0m\u001b[1;33m)\u001b[0m\u001b[1;33m\u001b[0m\u001b[1;33m\u001b[0m\u001b[0m\n",
      "\u001b[1;31mNameError\u001b[0m: name 'cluster_geo' is not defined"
     ]
    }
   ],
   "source": [
    "# Создаем карту с центром в центре Санкт-Петербурга\n",
    "m = folium.Map(location=[59.936431,30.3077291], zoom_start = 10)\n",
    "\n",
    "# Цвета для отображения уровня развития инфраструктуры\n",
    "# Районы с самым низким уровнем развития инфраструктуры обозначены цветом 'darkred', а с самым высоким - 'blue' \n",
    "color = ['darkred','orange','green','blue']\n",
    "\n",
    "# Добавляем на карту кластеры с уровнем инфраструктуры\n",
    "for i in cluster_geo.infr_level_new.unique():\n",
    "    data_lat = list(cluster_geo[cluster_geo.infr_level_new == i].cluster_lat)\n",
    "    data_long = list(cluster_geo[cluster_geo.infr_level_new == i].cluster_long)\n",
    "    rad = list(cluster_geo[cluster_geo.infr_level_new == i].radius)\n",
    "    \n",
    "    # Рисуем окружности для кластеров\n",
    "    for j in range(len(data_lat)):\n",
    "        folium.Circle(radius=rad[j], location=[data_lat[j], data_long[j]], color = color[int(i)], fill=True, fill_color = color[int(i)]).add_to(m)\n",
    "\n",
    "# Добавляем жк с информацией о ценовом сегменте\n",
    "# Самому низкому ценовому сегменту будет соответствовать 'blue', а самому высокому - 'darkred'  \n",
    "color2 = ['blue','green','orange','red','darkred']\n",
    "for i in geo_df.price_segment.unique():\n",
    "    data_lat = list(geo_df[geo_df.price_segment==i].latitude)\n",
    "    data_long = list(geo_df[geo_df.price_segment==i].longitude)\n",
    "    data_cluster = list(geo_df[geo_df.price_segment==i].cluster)\n",
    "    \n",
    "    # Ставим маркеры ЖК\n",
    "    for j in range(len(data_lat)):\n",
    "        folium.Marker(location=[data_lat[j], data_long[j]], popup = data_cluster[i], icon=folium.Icon(color = color2[int(i)])).add_to(m)\n",
    "\n",
    "        \n",
    "m.save(\"InfrastructureDevelopmentAndPriceSegments.html\")\n",
    "\n",
    "m"
   ]
  },
  {
   "cell_type": "code",
   "execution_count": null,
   "metadata": {},
   "outputs": [],
   "source": []
  }
 ],
 "metadata": {
  "hide_input": false,
  "kernelspec": {
   "display_name": "Python 3",
   "language": "python",
   "name": "python3"
  },
  "language_info": {
   "codemirror_mode": {
    "name": "ipython",
    "version": 3
   },
   "file_extension": ".py",
   "mimetype": "text/x-python",
   "name": "python",
   "nbconvert_exporter": "python",
   "pygments_lexer": "ipython3",
   "version": "3.7.4"
  },
  "latex_envs": {
   "LaTeX_envs_menu_present": true,
   "autoclose": false,
   "autocomplete": true,
   "bibliofile": "biblio.bib",
   "cite_by": "apalike",
   "current_citInitial": 1,
   "eqLabelWithNumbers": true,
   "eqNumInitial": 1,
   "hotkeys": {
    "equation": "Ctrl-E",
    "itemize": "Ctrl-I"
   },
   "labels_anchors": false,
   "latex_user_defs": false,
   "report_style_numbering": false,
   "user_envs_cfg": false
  },
  "nbTranslate": {
   "displayLangs": [
    "*"
   ],
   "hotkey": "alt-t",
   "langInMainMenu": true,
   "sourceLang": "en",
   "targetLang": "fr",
   "useGoogleTranslate": true
  }
 },
 "nbformat": 4,
 "nbformat_minor": 2
}
